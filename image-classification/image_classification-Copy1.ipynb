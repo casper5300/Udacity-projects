{
 "cells": [
  {
   "cell_type": "markdown",
   "metadata": {
    "collapsed": true
   },
   "source": [
    "# Image Classification\n",
    "In this project, you'll classify images from the [CIFAR-10 dataset](https://www.cs.toronto.edu/~kriz/cifar.html).  The dataset consists of airplanes, dogs, cats, and other objects. You'll preprocess the images, then train a convolutional neural network on all the samples. The images need to be normalized and the labels need to be one-hot encoded.  You'll get to apply what you learned and build a convolutional, max pooling, dropout, and fully connected layers.  At the end, you'll get to see your neural network's predictions on the sample images.\n",
    "## Get the Data\n",
    "Run the following cell to download the [CIFAR-10 dataset for python](https://www.cs.toronto.edu/~kriz/cifar-10-python.tar.gz)."
   ]
  },
  {
   "cell_type": "code",
   "execution_count": 12,
   "metadata": {},
   "outputs": [
    {
     "name": "stdout",
     "output_type": "stream",
     "text": [
      "All files found!\n"
     ]
    }
   ],
   "source": [
    "\"\"\"\n",
    "DON'T MODIFY ANYTHING IN THIS CELL THAT IS BELOW THIS LINE\n",
    "\"\"\"\n",
    "from urllib.request import urlretrieve\n",
    "from os.path import isfile, isdir\n",
    "from tqdm import tqdm\n",
    "import problem_unittests as tests\n",
    "import tarfile\n",
    "\n",
    "cifar10_dataset_folder_path = 'cifar-10-batches-py'\n",
    "\n",
    "class DLProgress(tqdm):\n",
    "    last_block = 0\n",
    "\n",
    "    def hook(self, block_num=1, block_size=1, total_size=None):\n",
    "        self.total = total_size\n",
    "        self.update((block_num - self.last_block) * block_size)\n",
    "        self.last_block = block_num\n",
    "\n",
    "if not isfile('cifar-10-python.tar.gz'):\n",
    "    with DLProgress(unit='B', unit_scale=True, miniters=1, desc='CIFAR-10 Dataset') as pbar:\n",
    "        urlretrieve(\n",
    "            'https://www.cs.toronto.edu/~kriz/cifar-10-python.tar.gz',\n",
    "            'cifar-10-python.tar.gz',\n",
    "            pbar.hook)\n",
    "\n",
    "if not isdir(cifar10_dataset_folder_path):\n",
    "    with tarfile.open('cifar-10-python.tar.gz') as tar:\n",
    "        tar.extractall()\n",
    "        tar.close()\n",
    "\n",
    "\n",
    "tests.test_folder_path(cifar10_dataset_folder_path)"
   ]
  },
  {
   "cell_type": "markdown",
   "metadata": {},
   "source": [
    "## Explore the Data\n",
    "The dataset is broken into batches to prevent your machine from running out of memory.  The CIFAR-10 dataset consists of 5 batches, named `data_batch_1`, `data_batch_2`, etc.. Each batch contains the labels and images that are one of the following:\n",
    "* airplane\n",
    "* automobile\n",
    "* bird\n",
    "* cat\n",
    "* deer\n",
    "* dog\n",
    "* frog\n",
    "* horse\n",
    "* ship\n",
    "* truck\n",
    "\n",
    "Understanding a dataset is part of making predictions on the data.  Play around with the code cell below by changing the `batch_id` and `sample_id`. The `batch_id` is the id for a batch (1-5). The `sample_id` is the id for a image and label pair in the batch.\n",
    "\n",
    "Ask yourself \"What are all possible labels?\", \"What is the range of values for the image data?\", \"Are the labels in order or random?\".  Answers to questions like these will help you preprocess the data and end up with better predictions."
   ]
  },
  {
   "cell_type": "code",
   "execution_count": 13,
   "metadata": {},
   "outputs": [
    {
     "name": "stdout",
     "output_type": "stream",
     "text": [
      "\n",
      "Stats of batch 4:\n",
      "Samples: 10000\n",
      "Label Counts: {0: 1003, 1: 963, 2: 1041, 3: 976, 4: 1004, 5: 1021, 6: 1004, 7: 981, 8: 1024, 9: 983}\n",
      "First 20 Labels: [0, 6, 0, 2, 7, 2, 1, 2, 4, 1, 5, 6, 6, 3, 1, 3, 5, 5, 8, 1]\n",
      "\n",
      "Example of Image 61:\n",
      "Image - Min Value: 0 Max Value: 255\n",
      "Image - Shape: (32, 32, 3)\n",
      "Label - Label Id: 4 Name: deer\n"
     ]
    },
    {
     "data": {
      "image/png": "[encoded data removed]",
      "text/plain": [
       "<matplotlib.figure.Figure at 0xcaf3390>"
      ]
     },
     "metadata": {
      "image/png": {
       "height": 250,
       "width": 253
      }
     },
     "output_type": "display_data"
    }
   ],
   "source": [
    "%matplotlib inline\n",
    "%config InlineBackend.figure_format = 'retina'\n",
    "import tensorflow as tf\n",
    "import helper\n",
    "import numpy as np\n",
    "\n",
    "#Explore the dataset\n",
    "batch_id = 4\n",
    "sample_id = 61\n",
    "helper.display_stats(cifar10_dataset_folder_path, batch_id, sample_id)"
   ]
  },
  {
   "cell_type": "markdown",
   "metadata": {},
   "source": [
    "## Implement Preprocess Functions\n",
    "### Normalize\n",
    "In the cell below, implement the `normalize` function to take in image data, `x`, and return it as a normalized Numpy array. The values should be in the range of 0 to 1, inclusive.  The return object should be the same shape as `x`."
   ]
  },
  {
   "cell_type": "code",
   "execution_count": 18,
   "metadata": {},
   "outputs": [
    {
     "name": "stdout",
     "output_type": "stream",
     "text": [
      "Tests Passed\n"
     ]
    }
   ],
   "source": [
    "def normalize(x):\n",
    "    \"\"\"\n",
    "    Normalize a list of sample image data in the range of 0 to 1\n",
    "    : x: List of image data.  The image shape is (32, 32, 3)\n",
    "    : return: Numpy array of normalize data\n",
    "    \"\"\"\n",
    "    # TODO: Implement Function\n",
    " \n",
    "    return (x-x.min())/(x.max()-x.min())\n",
    "\n",
    "\n",
    "\"\"\"\n",
    "DON'T MODIFY ANYTHING IN THIS CELL THAT IS BELOW THIS LINE\n",
    "\"\"\"\n",
    "tests.test_normalize(normalize)"
   ]
  },
  {
   "cell_type": "markdown",
   "metadata": {},
   "source": [
    "### One-hot encode\n",
    "Just like the previous code cell, you'll be implementing a function for preprocessing.  This time, you'll implement the `one_hot_encode` function. The input, `x`, are a list of labels.  Implement the function to return the list of labels as One-Hot encoded Numpy array.  The possible values for labels are 0 to 9. The one-hot encoding function should return the same encoding for each value between each call to `one_hot_encode`.  Make sure to save the map of encodings outside the function.\n",
    "\n",
    "**Hint:**\n",
    "\n",
    "Look into LabelBinarizer in the preprocessing module of sklearn."
   ]
  },
  {
   "cell_type": "code",
   "execution_count": 20,
   "metadata": {},
   "outputs": [
    {
     "name": "stdout",
     "output_type": "stream",
     "text": [
      "Tests Passed\n"
     ]
    }
   ],
   "source": [
    "def one_hot_encode(x):\n",
    "    \"\"\"\n",
    "    One hot encode a list of sample labels. Return a one-hot encoded vector for each label.\n",
    "    : x: List of sample Labels\n",
    "    : return: Numpy array of one-hot encoded labels\n",
    "    \"\"\"\n",
    "    # TODO: Implement Function\n",
    "    from sklearn.preprocessing import LabelBinarizer\n",
    "    global lb\n",
    "    if lb == 0:\n",
    "        lb = LabelBinarizer().fit(x) \n",
    "    \n",
    "    return lb.transform(x)\n",
    "global lb\n",
    "lb = 0\n",
    "\n",
    "\n",
    "\n",
    "\"\"\"\n",
    "DON'T MODIFY ANYTHING IN THIS CELL THAT IS BELOW THIS LINE\n",
    "\"\"\"\n",
    "tests.test_one_hot_encode(one_hot_encode)"
   ]
  },
  {
   "cell_type": "markdown",
   "metadata": {},
   "source": [
    "### Randomize Data\n",
    "As you saw from exploring the data above, the order of the samples are randomized.  It doesn't hurt to randomize it again, but you don't need to for this dataset."
   ]
  },
  {
   "cell_type": "markdown",
   "metadata": {},
   "source": [
    "## Preprocess all the data and save it\n",
    "Running the code cell below will preprocess all the CIFAR-10 data and save it to file. The code below also uses 10% of the training data for validation."
   ]
  },
  {
   "cell_type": "code",
   "execution_count": 21,
   "metadata": {
    "collapsed": true
   },
   "outputs": [],
   "source": [
    "\"\"\"\n",
    "DON'T MODIFY ANYTHING IN THIS CELL\n",
    "\"\"\"\n",
    "# Preprocess Training, Validation, and Testing Data\n",
    "helper.preprocess_and_save_data(cifar10_dataset_folder_path, normalize, one_hot_encode)"
   ]
  },
  {
   "cell_type": "markdown",
   "metadata": {},
   "source": [
    "# Check Point\n",
    "This is your first checkpoint.  If you ever decide to come back to this notebook or have to restart the notebook, you can start from here.  The preprocessed data has been saved to disk."
   ]
  },
  {
   "cell_type": "code",
   "execution_count": 25,
   "metadata": {},
   "outputs": [
    {
     "name": "stderr",
     "output_type": "stream",
     "text": [
      "Using TensorFlow backend.\n"
     ]
    }
   ],
   "source": [
    "\"\"\"\n",
    "DON'T MODIFY ANYTHING IN THIS CELL\n",
    "\"\"\"\n",
    "import pickle\n",
    "import problem_unittests as tests\n",
    "import helper\n",
    "from keras.models import Model, load_model\n",
    "\n",
    "# Load the Preprocessed Validation data\n",
    "valid_features, valid_labels = pickle.load(open('preprocess_validation.p', mode='rb'))"
   ]
  },
  {
   "cell_type": "markdown",
   "metadata": {},
   "source": [
    "## Build the network\n",
    "For the neural network, you'll build each layer into a function.  Most of the code you've seen has been outside of functions. To test your code more thoroughly, we require that you put each layer in a function.  This allows us to give you better feedback and test for simple mistakes using our unittests before you submit your project.\n",
    "\n",
    ">**Note:** If you're finding it hard to dedicate enough time for this course each week, we've provided a small shortcut to this part of the project. In the next couple of problems, you'll have the option to use classes from the [TensorFlow Layers](https://www.tensorflow.org/api_docs/python/tf/layers) or [TensorFlow Layers (contrib)](https://www.tensorflow.org/api_guides/python/contrib.layers) packages to build each layer, except the layers you build in the \"Convolutional and Max Pooling Layer\" section.  TF Layers is similar to Keras's and TFLearn's abstraction to layers, so it's easy to pickup.\n",
    "\n",
    ">However, if you would like to get the most out of this course, try to solve all the problems _without_ using anything from the TF Layers packages. You **can** still use classes from other packages that happen to have the same name as ones you find in TF Layers! For example, instead of using the TF Layers version of the `conv2d` class, [tf.layers.conv2d](https://www.tensorflow.org/api_docs/python/tf/layers/conv2d), you would want to use the TF Neural Network version of `conv2d`, [tf.nn.conv2d](https://www.tensorflow.org/api_docs/python/tf/nn/conv2d). \n",
    "\n",
    "Let's begin!\n",
    "\n",
    "### Input\n",
    "The neural network needs to read the image data, one-hot encoded labels, and dropout keep probability. Implement the following functions\n",
    "* Implement `neural_net_image_input`\n",
    " * Return a [TF Placeholder](https://www.tensorflow.org/api_docs/python/tf/placeholder)\n",
    " * Set the shape using `image_shape` with batch size set to `None`.\n",
    " * Name the TensorFlow placeholder \"x\" using the TensorFlow `name` parameter in the [TF Placeholder](https://www.tensorflow.org/api_docs/python/tf/placeholder).\n",
    "* Implement `neural_net_label_input`\n",
    " * Return a [TF Placeholder](https://www.tensorflow.org/api_docs/python/tf/placeholder)\n",
    " * Set the shape using `n_classes` with batch size set to `None`.\n",
    " * Name the TensorFlow placeholder \"y\" using the TensorFlow `name` parameter in the [TF Placeholder](https://www.tensorflow.org/api_docs/python/tf/placeholder).\n",
    "* Implement `neural_net_keep_prob_input`\n",
    " * Return a [TF Placeholder](https://www.tensorflow.org/api_docs/python/tf/placeholder) for dropout keep probability.\n",
    " * Name the TensorFlow placeholder \"keep_prob\" using the TensorFlow `name` parameter in the [TF Placeholder](https://www.tensorflow.org/api_docs/python/tf/placeholder).\n",
    "\n",
    "These names will be used at the end of the project to load your saved model.\n",
    "\n",
    "Note: `None` for shapes in TensorFlow allow for a dynamic size."
   ]
  },
  {
   "cell_type": "code",
   "execution_count": 2,
   "metadata": {},
   "outputs": [
    {
     "name": "stdout",
     "output_type": "stream",
     "text": [
      "Image Input Tests Passed.\n",
      "Label Input Tests Passed.\n",
      "Keep Prob Tests Passed.\n"
     ]
    }
   ],
   "source": [
    "import tensorflow as tf\n",
    "\n",
    "def neural_net_image_input(image_shape):\n",
    "    \"\"\"\n",
    "    Return a Tensor for a batch of image input\n",
    "    : image_shape: Shape of the images\n",
    "    : return: Tensor for image input.\n",
    "    \"\"\"\n",
    "    # TODO: Implement Function\n",
    "    \n",
    "    return tf.placeholder(tf.float32,shape=(None,*image_shape),name='x')\n",
    "    # I thought this is not a good way if the image_shape is more than 3D.\n",
    "\n",
    "def neural_net_label_input(n_classes):\n",
    "    \"\"\"\n",
    "    Return a Tensor for a batch of label input\n",
    "    : n_classes: Number of classes\n",
    "    : return: Tensor for label input.+6+\n",
    "    \n",
    "    \"\"\"\n",
    "    # TODO: Implement Function\n",
    "    return tf.placeholder(tf.float32,shape=(None,n_classes),name='y')\n",
    "\n",
    "\n",
    "def neural_net_keep_prob_input():\n",
    "    \"\"\"\n",
    "    Return a Tensor for keep probability\n",
    "    : return: Tensor for keep probability.\n",
    "    \"\"\"\n",
    "    # TODO: Implement Function\n",
    "    return tf.placeholder(tf.float32,name='keep_prob')\n",
    "\n",
    "\n",
    "\"\"\"\n",
    "DON'T MODIFY ANYTHING IN THIS CELL THAT IS BELOW THIS LINE\n",
    "\"\"\"\n",
    "tf.reset_default_graph()\n",
    "tests.test_nn_image_inputs(neural_net_image_input)\n",
    "tests.test_nn_label_inputs(neural_net_label_input)\n",
    "tests.test_nn_keep_prob_inputs(neural_net_keep_prob_input)"
   ]
  },
  {
   "cell_type": "markdown",
   "metadata": {},
   "source": [
    "### Convolution and Max Pooling Layer\n",
    "Convolution layers have a lot of success with images. For this code cell, you should implement the function `conv2d_maxpool` to apply convolution then max pooling:\n",
    "* Create the weight and bias using `conv_ksize`, `conv_num_outputs` and the shape of `x_tensor`.\n",
    "* Apply a convolution to `x_tensor` using weight and `conv_strides`.\n",
    " * We recommend you use same padding, but you're welcome to use any padding.\n",
    "* Add bias\n",
    "* Add a nonlinear activation to the convolution.\n",
    "* Apply Max Pooling using `pool_ksize` and `pool_strides`.\n",
    " * We recommend you use same padding, but you're welcome to use any padding.\n",
    "\n",
    "**Note:** You **can't** use [TensorFlow Layers](https://www.tensorflow.org/api_docs/python/tf/layers) or [TensorFlow Layers (contrib)](https://www.tensorflow.org/api_guides/python/contrib.layers) for **this** layer, but you can still use TensorFlow's [Neural Network](https://www.tensorflow.org/api_docs/python/tf/nn) package. You may still use the shortcut option for all the **other** layers.\n",
    "\n",
    "** Hint: **\n",
    "\n",
    "When unpacking values as an argument in Python, look into the [unpacking](https://docs.python.org/3/tutorial/controlflow.html#unpacking-argument-lists) operator. "
   ]
  },
  {
   "cell_type": "code",
   "execution_count": 3,
   "metadata": {
    "scrolled": false
   },
   "outputs": [
    {
     "name": "stdout",
     "output_type": "stream",
     "text": [
      "Tests Passed\n"
     ]
    }
   ],
   "source": [
    "def conv2d_maxpool(x_tensor, conv_num_outputs, conv_ksize, conv_strides, pool_ksize, pool_strides):\n",
    "    \"\"\"\n",
    "    Apply convolution then max pooling to x_tensor\n",
    "    :param x_tensor: TensorFlow Tensor\n",
    "    :param conv_num_outputs: Number of outputs for the convolutional layer\n",
    "    :param conv_ksize: kernal size 2-D Tuple for the convolutional layer\n",
    "    :param conv_strides: Stride 2-D Tuple for convolution\n",
    "    :param pool_ksize: kernal size 2-D Tuple for pool\n",
    "    :param pool_strides: Stride 2-D Tuple for pool\n",
    "    : return: A tensor that represents convolution and max pooling of x_tensor\n",
    "    \"\"\"\n",
    "    # TODO: Implement Function\n",
    "    #create weight[kernal_size,kernal_number] and bias[kernal_number,1].\n",
    "    X_shape = x_tensor.get_shape().as_list()\n",
    "    \n",
    "    #create weight and bias\n",
    "    w_shape = [*conv_ksize,X_shape[-1],conv_num_outputs]\n",
    "    initializer = tf.contrib.layers.xavier_initializer()\n",
    "    weight = tf.Variable(initializer(w_shape),dtype=tf.float32)\n",
    "    #weight = tf.get_variable('weight',initializer=tf.contrib.layers.xavier_initializer(),shape=(conv_ksize[0],conv_ksize[1],X_shape[-1],conv_num_outputs),dtype=tf.float32)\n",
    "    bias = tf.zeros(shape = (conv_num_outputs),dtype=tf.float32)\n",
    "    \n",
    "    #conv2d\n",
    "    Z = tf.nn.conv2d(x_tensor,weight,strides=[1,*conv_strides,1],padding='SAME')\n",
    "    \n",
    "    #add bias\n",
    "    Z += bias\n",
    "    \n",
    "    #relu\n",
    "    A = tf.nn.relu(Z)\n",
    "    \n",
    "    #maxpool\n",
    "    P = tf.nn.max_pool(A,ksize=[1,pool_ksize[0],pool_ksize[1],1],strides=[1,pool_strides[0],pool_strides[1],1],padding='SAME')\n",
    "    \n",
    "    return P \n",
    "\n",
    "\n",
    "\"\"\"\n",
    "DON'T MODIFY ANYTHING IN THIS CELL THAT IS BELOW THIS LINE\n",
    "\"\"\"\n",
    "tests.test_con_pool(conv2d_maxpool)"
   ]
  },
  {
   "cell_type": "markdown",
   "metadata": {},
   "source": [
    "### Flatten Layer\n",
    "Implement the `flatten` function to change the dimension of `x_tensor` from a 4-D tensor to a 2-D tensor.  The output should be the shape (*Batch Size*, *Flattened Image Size*). Shortcut option: you can use classes from the [TensorFlow Layers](https://www.tensorflow.org/api_docs/python/tf/layers) or [TensorFlow Layers (contrib)](https://www.tensorflow.org/api_guides/python/contrib.layers) packages for this layer. For more of a challenge, only use other TensorFlow packages."
   ]
  },
  {
   "cell_type": "code",
   "execution_count": 4,
   "metadata": {
    "scrolled": false
   },
   "outputs": [
    {
     "name": "stdout",
     "output_type": "stream",
     "text": [
      "Tests Passed\n"
     ]
    }
   ],
   "source": [
    "def flatten(x_tensor):\n",
    "    \"\"\"\n",
    "    Flatten x_tensor to (Batch Size, Flattened Image Size)\n",
    "    : x_tensor: A tensor of size (Batch Size, ...), where ... are the image dimensions.\n",
    "    : return: A tensor of size (Batch Size, Flattened Image Size).\n",
    "    \"\"\"\n",
    "    # TODO: Implement Function\n",
    "    batch_size,H,W,C = x_tensor.get_shape().as_list()\n",
    "      \n",
    "    #return tf.contrib.layers.flatten(x_tensor)\n",
    "    return tf.reshape(x_tensor,(-1,int(H*W*C)))\n",
    "\n",
    "\"\"\"\n",
    "DON'T MODIFY ANYTHING IN THIS CELL THAT IS BELOW THIS LINE\n",
    "\"\"\"\n",
    "tests.test_flatten(flatten)"
   ]
  },
  {
   "cell_type": "markdown",
   "metadata": {},
   "source": [
    "### Fully-Connected Layer\n",
    "Implement the `fully_conn` function to apply a fully connected layer to `x_tensor` with the shape (*Batch Size*, *num_outputs*). Shortcut option: you can use classes from the [TensorFlow Layers](https://www.tensorflow.org/api_docs/python/tf/layers) or [TensorFlow Layers (contrib)](https://www.tensorflow.org/api_guides/python/contrib.layers) packages for this layer. For more of a challenge, only use other TensorFlow packages."
   ]
  },
  {
   "cell_type": "code",
   "execution_count": 5,
   "metadata": {},
   "outputs": [
    {
     "name": "stdout",
     "output_type": "stream",
     "text": [
      "Tests Passed\n"
     ]
    }
   ],
   "source": [
    "def fully_conn(x_tensor, num_outputs):\n",
    "    \"\"\"\n",
    "    Apply a fully connected layer to x_tensor using weight and bias\n",
    "    : x_tensor: A 2-D tensor where the first dimension is batch size.\n",
    "    : num_outputs: The number of output that the new tensor should be.\n",
    "    : return: A 2-D tensor where the second dimension is num_outputs.\n",
    "    \"\"\"\n",
    "    # TODO: Implement Function\n",
    "    return tf.contrib.layers.fully_connected(x_tensor,num_outputs)\n",
    "\n",
    "\n",
    "\"\"\"\n",
    "DON'T MODIFY ANYTHING IN THIS CELL THAT IS BELOW THIS LINE\n",
    "\"\"\"\n",
    "tests.test_fully_conn(fully_conn)"
   ]
  },
  {
   "cell_type": "markdown",
   "metadata": {},
   "source": [
    "### Output Layer\n",
    "Implement the `output` function to apply a fully connected layer to `x_tensor` with the shape (*Batch Size*, *num_outputs*). Shortcut option: you can use classes from the [TensorFlow Layers](https://www.tensorflow.org/api_docs/python/tf/layers) or [TensorFlow Layers (contrib)](https://www.tensorflow.org/api_guides/python/contrib.layers) packages for this layer. For more of a challenge, only use other TensorFlow packages.\n",
    "\n",
    "**Note:** Activation, softmax, or cross entropy should **not** be applied to this."
   ]
  },
  {
   "cell_type": "code",
   "execution_count": 12,
   "metadata": {},
   "outputs": [
    {
     "name": "stdout",
     "output_type": "stream",
     "text": [
      "Tests Passed\n"
     ]
    }
   ],
   "source": [
    "def output(x_tensor, num_outputs):\n",
    "    \"\"\"\n",
    "    Apply a output layer to x_tensor using weight and bias\n",
    "    : x_tensor: A 2-D tensor where the first dimension is batch size.\n",
    "    : num_outputs: The number of output that the new tensor should be.\n",
    "    : return: A 2-D tensor where the second dimension is num_outputs.\n",
    "    \"\"\"\n",
    "    # TODO: Implement Function\n",
    "    return tf.contrib.layers.fully_connected(x_tensor,num_outputs,activation_fn = tf.nn.softmax)\n",
    "\n",
    "\n",
    "\"\"\"\n",
    "DON'T MODIFY ANYTHING IN THIS CELL THAT IS BELOW THIS LINE\n",
    "\"\"\"\n",
    "tests.test_output(output)"
   ]
  },
  {
   "cell_type": "markdown",
   "metadata": {},
   "source": [
    "### Create Convolutional Model\n",
    "Implement the function `conv_net` to create a convolutional neural network model. The function takes in a batch of images, `x`, and outputs logits.  Use the layers you created above to create this model:\n",
    "\n",
    "* Apply 1, 2, or 3 Convolution and Max Pool layers\n",
    "* Apply a Flatten Layer\n",
    "* Apply 1, 2, or 3 Fully Connected Layers\n",
    "* Apply an Output Layer\n",
    "* Return the output\n",
    "* Apply [TensorFlow's Dropout](https://www.tensorflow.org/api_docs/python/tf/nn/dropout) to one or more layers in the model using `keep_prob`. "
   ]
  },
  {
   "cell_type": "code",
   "execution_count": 26,
   "metadata": {},
   "outputs": [
    {
     "ename": "TypeError",
     "evalue": "Input tensors to a Model must be Keras tensors. Found: Tensor(\"x:0\", shape=(?, 32, 32, 3), dtype=float32) (missing Keras metadata).",
     "output_type": "error",
     "traceback": [
      "\u001b[1;31m---------------------------------------------------------------------------\u001b[0m",
      "\u001b[1;31mTypeError\u001b[0m                                 Traceback (most recent call last)",
      "\u001b[1;32m<ipython-input-26-ac860505f450>\u001b[0m in \u001b[0;36m<module>\u001b[1;34m()\u001b[0m\n\u001b[0;32m     63\u001b[0m \u001b[1;33m\u001b[0m\u001b[0m\n\u001b[0;32m     64\u001b[0m \u001b[1;31m# Model\u001b[0m\u001b[1;33m\u001b[0m\u001b[1;33m\u001b[0m\u001b[0m\n\u001b[1;32m---> 65\u001b[1;33m \u001b[0mlogits\u001b[0m \u001b[1;33m=\u001b[0m \u001b[0mconv_net\u001b[0m\u001b[1;33m(\u001b[0m\u001b[0mx\u001b[0m\u001b[1;33m,\u001b[0m \u001b[0mkeep_prob\u001b[0m\u001b[1;33m)\u001b[0m\u001b[1;33m\u001b[0m\u001b[0m\n\u001b[0m\u001b[0;32m     66\u001b[0m \u001b[0mlogits\u001b[0m\u001b[1;33m.\u001b[0m\u001b[0mcompile\u001b[0m\u001b[1;33m(\u001b[0m\u001b[0moptimizer\u001b[0m\u001b[1;33m=\u001b[0m\u001b[1;34m'adam'\u001b[0m\u001b[1;33m,\u001b[0m\u001b[0mloss\u001b[0m\u001b[1;33m=\u001b[0m\u001b[1;34m'categorical_crossentropy'\u001b[0m\u001b[1;33m,\u001b[0m\u001b[0mmetrics\u001b[0m\u001b[1;33m=\u001b[0m\u001b[1;33m[\u001b[0m\u001b[1;34m'accuracy'\u001b[0m\u001b[1;33m]\u001b[0m\u001b[1;33m)\u001b[0m\u001b[1;33m\u001b[0m\u001b[0m\n\u001b[0;32m     67\u001b[0m \u001b[1;31m# Name logits Tensor, so that is can be loaded from disk after training\u001b[0m\u001b[1;33m\u001b[0m\u001b[1;33m\u001b[0m\u001b[0m\n",
      "\u001b[1;32m<ipython-input-26-ac860505f450>\u001b[0m in \u001b[0;36mconv_net\u001b[1;34m(x, keep_prob)\u001b[0m\n\u001b[0;32m     41\u001b[0m     \u001b[0mX\u001b[0m \u001b[1;33m=\u001b[0m \u001b[0moutput\u001b[0m\u001b[1;33m(\u001b[0m\u001b[0mX\u001b[0m\u001b[1;33m,\u001b[0m\u001b[1;36m10\u001b[0m\u001b[1;33m)\u001b[0m\u001b[1;33m\u001b[0m\u001b[0m\n\u001b[0;32m     42\u001b[0m \u001b[1;33m\u001b[0m\u001b[0m\n\u001b[1;32m---> 43\u001b[1;33m     \u001b[0mmodel\u001b[0m \u001b[1;33m=\u001b[0m \u001b[0mModel\u001b[0m\u001b[1;33m(\u001b[0m\u001b[0minputs\u001b[0m \u001b[1;33m=\u001b[0m \u001b[0mx_input\u001b[0m\u001b[1;33m,\u001b[0m \u001b[0moutputs\u001b[0m \u001b[1;33m=\u001b[0m \u001b[0mX\u001b[0m\u001b[1;33m,\u001b[0m \u001b[0mname\u001b[0m \u001b[1;33m=\u001b[0m \u001b[1;34m'conv_net'\u001b[0m\u001b[1;33m)\u001b[0m\u001b[1;33m\u001b[0m\u001b[0m\n\u001b[0m\u001b[0;32m     44\u001b[0m     \u001b[1;31m# TODO: return output\u001b[0m\u001b[1;33m\u001b[0m\u001b[1;33m\u001b[0m\u001b[0m\n\u001b[0;32m     45\u001b[0m     \u001b[1;32mreturn\u001b[0m \u001b[0mmodel\u001b[0m\u001b[1;33m\u001b[0m\u001b[0m\n",
      "\u001b[1;32m~\\Anaconda3\\envs\\tensorflow\\lib\\site-packages\\keras\\legacy\\interfaces.py\u001b[0m in \u001b[0;36mwrapper\u001b[1;34m(*args, **kwargs)\u001b[0m\n\u001b[0;32m     85\u001b[0m                 warnings.warn('Update your `' + object_name +\n\u001b[0;32m     86\u001b[0m                               '` call to the Keras 2 API: ' + signature, stacklevel=2)\n\u001b[1;32m---> 87\u001b[1;33m             \u001b[1;32mreturn\u001b[0m \u001b[0mfunc\u001b[0m\u001b[1;33m(\u001b[0m\u001b[1;33m*\u001b[0m\u001b[0margs\u001b[0m\u001b[1;33m,\u001b[0m \u001b[1;33m**\u001b[0m\u001b[0mkwargs\u001b[0m\u001b[1;33m)\u001b[0m\u001b[1;33m\u001b[0m\u001b[0m\n\u001b[0m\u001b[0;32m     88\u001b[0m         \u001b[0mwrapper\u001b[0m\u001b[1;33m.\u001b[0m\u001b[0m_original_function\u001b[0m \u001b[1;33m=\u001b[0m \u001b[0mfunc\u001b[0m\u001b[1;33m\u001b[0m\u001b[0m\n\u001b[0;32m     89\u001b[0m         \u001b[1;32mreturn\u001b[0m \u001b[0mwrapper\u001b[0m\u001b[1;33m\u001b[0m\u001b[0m\n",
      "\u001b[1;32m~\\Anaconda3\\envs\\tensorflow\\lib\\site-packages\\keras\\engine\\topology.py\u001b[0m in \u001b[0;36m__init__\u001b[1;34m(self, inputs, outputs, name)\u001b[0m\n\u001b[0;32m   1555\u001b[0m                 raise TypeError('Input tensors to a ' + cls_name + ' ' +\n\u001b[0;32m   1556\u001b[0m                                 \u001b[1;34m'must be Keras tensors. Found: '\u001b[0m \u001b[1;33m+\u001b[0m \u001b[0mstr\u001b[0m\u001b[1;33m(\u001b[0m\u001b[0mx\u001b[0m\u001b[1;33m)\u001b[0m \u001b[1;33m+\u001b[0m\u001b[1;33m\u001b[0m\u001b[0m\n\u001b[1;32m-> 1557\u001b[1;33m                                 ' (missing Keras metadata).')\n\u001b[0m\u001b[0;32m   1558\u001b[0m             \u001b[1;31m# Check that x is an input tensor.\u001b[0m\u001b[1;33m\u001b[0m\u001b[1;33m\u001b[0m\u001b[0m\n\u001b[0;32m   1559\u001b[0m             \u001b[0mlayer\u001b[0m\u001b[1;33m,\u001b[0m \u001b[0mnode_index\u001b[0m\u001b[1;33m,\u001b[0m \u001b[0mtensor_index\u001b[0m \u001b[1;33m=\u001b[0m \u001b[0mx\u001b[0m\u001b[1;33m.\u001b[0m\u001b[0m_keras_history\u001b[0m\u001b[1;33m\u001b[0m\u001b[0m\n",
      "\u001b[1;31mTypeError\u001b[0m: Input tensors to a Model must be Keras tensors. Found: Tensor(\"x:0\", shape=(?, 32, 32, 3), dtype=float32) (missing Keras metadata)."
     ]
    }
   ],
   "source": [
    "def conv_net(x, keep_prob):\n",
    "    \"\"\"\n",
    "    Create a convolutional neural network model\n",
    "    : x: Placeholder tensor that holds image data.\n",
    "    : keep_prob: Placeholder tensor that hold dropout keep probability.\n",
    "    : return: Tensor that represents logits\n",
    "    \"\"\"\n",
    "    # TODO: Apply 1, 2, or 3 Convolution and Max Pool layers\n",
    "    #    Play around with different number of outputs, kernel size and stride\n",
    "    # Function Definition from Above:\n",
    "    #    conv2d_maxpool(x_tensor, conv_num_outputs, conv_ksize, conv_strides, pool_ksize, pool_strides)\n",
    "    x_input = x\n",
    "    X = x_input\n",
    "    X = conv2d_maxpool(X,conv_num_outputs = 64,conv_ksize=(3,3),conv_strides=(1,1),pool_ksize=(2,2),pool_strides=(2,2))\n",
    "    X = tf.layers.batch_normalization(X,axis=-1)\n",
    "\n",
    "    X = conv2d_maxpool(X,conv_num_outputs=128,conv_ksize=(3,3),conv_strides=(1,1),pool_ksize=(2,2),pool_strides=(2,2))\n",
    "    X = tf.layers.batch_normalization(X,axis=-1)\n",
    "\n",
    "    X = conv2d_maxpool(X,conv_num_outputs=256,conv_ksize=(3,3),conv_strides=(1,1),pool_ksize=(2,2),pool_strides=(2,2))\n",
    "    X = tf.layers.batch_normalization(X,axis=-1)\n",
    "\n",
    "\n",
    "  \n",
    "    # TODO: Apply a Flatten Layer\n",
    "    # Function Definition from Above:\n",
    "    #   flatten(x_tensor)\n",
    "    X = flatten(X)\n",
    "    \n",
    "    # TODO: Apply 1, 2, or 3 Fully Connected Layers\n",
    "    #    Play around with different number of outputs\n",
    "    # Function Definition from Above:\n",
    "    #   fully_conn(x_tensor, num_outputs)\n",
    "    X = fully_conn(X,1024)    \n",
    "    X = tf.nn.dropout(X,keep_prob)\n",
    "    \n",
    "    # TODO: Apply an Output Layer\n",
    "    #    Set this to the number of classes\n",
    "    # Function Definition from Above:\n",
    "    #   output(x_tensor, num_outputs)\n",
    "    X = output(X,10)\n",
    "    \n",
    "    model = Model(inputs = x_input, outputs = X, name = 'conv_net')\n",
    "    # TODO: return output\n",
    "    return model\n",
    "\n",
    "\n",
    "\"\"\"\n",
    "DON'T MODIFY ANYTHING IN THIS CELL THAT IS BELOW THIS LINE\n",
    "\"\"\"\n",
    "\n",
    "##############################\n",
    "## Build the Neural Network ##\n",
    "##############################\n",
    "\n",
    "# Remove previous weights, bias, inputs, etc..\n",
    "tf.reset_default_graph()\n",
    "\n",
    "# Inputs\n",
    "#x = neural_net_image_input((32, 32, 3)) \n",
    "#y = neural_net_label_input(10)\n",
    "keep_prob = neural_net_keep_prob_input()\n",
    "\n",
    "# Model\n",
    "logits = conv_net(x, keep_prob)\n",
    "logits.compile(optimizer='adam',loss='categorical_crossentropy',metrics=['accuracy'])\n",
    "# Name logits Tensor, so that is can be loaded from disk after training\n",
    "#logits = tf.identity(logits, name='logits')\n",
    "\n",
    "# Loss and Optimizer\n",
    "#cost = tf.reduce_mean(tf.nn.softmax_cross_entropy_with_logits(logits=logits, labels=y))\n",
    "#optimizer = tf.train.AdamOptimizer().minimize(cost)\n",
    "\n",
    "# Accuracy\n",
    "#correct_pred = tf.equal(tf.argmax(logits, 1), tf.argmax(y, 1))\n",
    "#accuracy = tf.reduce_mean(tf.cast(correct_pred, tf.float32), name='accuracy')\n",
    "\n",
    "#tests.test_conv_net(conv_net)\n"
   ]
  },
  {
   "cell_type": "code",
   "execution_count": 19,
   "metadata": {},
   "outputs": [
    {
     "ename": "NameError",
     "evalue": "name 'Conv2d_maxpool' is not defined",
     "output_type": "error",
     "traceback": [
      "\u001b[1;31m---------------------------------------------------------------------------\u001b[0m",
      "\u001b[1;31mNameError\u001b[0m                                 Traceback (most recent call last)",
      "\u001b[1;32m<ipython-input-19-b4d770831404>\u001b[0m in \u001b[0;36m<module>\u001b[1;34m()\u001b[0m\n\u001b[1;32m----> 1\u001b[1;33m \u001b[0mmodel\u001b[0m \u001b[1;33m=\u001b[0m \u001b[0mConv2d_maxpool\u001b[0m\u001b[1;33m(\u001b[0m\u001b[0minput_shape\u001b[0m \u001b[1;33m=\u001b[0m \u001b[1;33m(\u001b[0m\u001b[1;36m32\u001b[0m\u001b[1;33m,\u001b[0m\u001b[1;36m32\u001b[0m\u001b[1;33m,\u001b[0m\u001b[1;36m3\u001b[0m\u001b[1;33m)\u001b[0m\u001b[1;33m,\u001b[0m\u001b[0mclasses\u001b[0m \u001b[1;33m=\u001b[0m \u001b[1;36m10\u001b[0m\u001b[1;33m)\u001b[0m\u001b[1;33m\u001b[0m\u001b[0m\n\u001b[0m",
      "\u001b[1;31mNameError\u001b[0m: name 'Conv2d_maxpool' is not defined"
     ]
    }
   ],
   "source": []
  },
  {
   "cell_type": "markdown",
   "metadata": {},
   "source": [
    "## Train the Neural Network\n",
    "### Single Optimization\n",
    "Implement the function `train_neural_network` to do a single optimization.  The optimization should use `optimizer` to optimize in `session` with a `feed_dict` of the following:\n",
    "* `x` for image input\n",
    "* `y` for labels\n",
    "* `keep_prob` for keep probability for dropout\n",
    "\n",
    "This function will be called for each batch, so `tf.global_variables_initializer()` has already been called.\n",
    "\n",
    "Note: Nothing needs to be returned. This function is only optimizing the neural network."
   ]
  },
  {
   "cell_type": "code",
   "execution_count": 8,
   "metadata": {},
   "outputs": [
    {
     "name": "stdout",
     "output_type": "stream",
     "text": [
      "Tests Passed\n"
     ]
    }
   ],
   "source": [
    "def train_neural_network(session, optimizer, keep_probability, feature_batch, label_batch):\n",
    "    \"\"\"\n",
    "    Optimize the session on a batch of images and labels\n",
    "    : session: Current TensorFlow session\n",
    "    : optimizer: TensorFlow optimizer function\n",
    "    : keep_probability: keep probability\n",
    "    : feature_batch: Batch of Numpy image data\n",
    "    : label_batch: Batch of Numpy label data\n",
    "    \"\"\"\n",
    "    # TODO: Implement Function\n",
    "    session.run(optimizer,feed_dict={x:feature_batch,y:label_batch,keep_prob:keep_probability})\n",
    "    pass\n",
    "\n",
    "\n",
    "\"\"\"\n",
    "DON'T MODIFY ANYTHING IN THIS CELL THAT IS BELOW THIS LINE\n",
    "\"\"\"\n",
    "tests.test_train_nn(train_neural_network)"
   ]
  },
  {
   "cell_type": "markdown",
   "metadata": {},
   "source": [
    "### Show Stats\n",
    "Implement the function `print_stats` to print loss and validation accuracy.  Use the global variables `valid_features` and `valid_labels` to calculate validation accuracy.  Use a keep probability of `1.0` to calculate the loss and validation accuracy."
   ]
  },
  {
   "cell_type": "code",
   "execution_count": 9,
   "metadata": {
    "collapsed": true
   },
   "outputs": [],
   "source": [
    "def print_stats(session, feature_batch, label_batch, cost, accuracy):\n",
    "    \"\"\"\n",
    "    Print information about loss and validation accuracy\n",
    "    : session: Current TensorFlow session\n",
    "    : feature_batch: Batch of Numpy image data\n",
    "    : label_batch: Batch of Numpy label data\n",
    "    : cost: TensorFlow cost function\n",
    "    : accuracy: TensorFlow accuracy function\n",
    "    \"\"\"\n",
    "    # TODO: Implement Function    \n",
    "    loss = session.run(cost,feed_dict={x:feature_batch,y:label_batch,keep_prob:1.0})\n",
    "    validation_accuracy = session.run(accuracy,feed_dict={x:valid_features,y:valid_labels,keep_prob:1.0})\n",
    "    \n",
    "    print('loss = '+str(loss))\n",
    "    print('Validation accuracy = '+str(validation_accuracy))\n",
    "    pass"
   ]
  },
  {
   "cell_type": "code",
   "execution_count": null,
   "metadata": {
    "collapsed": true
   },
   "outputs": [],
   "source": []
  },
  {
   "cell_type": "markdown",
   "metadata": {},
   "source": [
    "### Hyperparameters\n",
    "Tune the following parameters:\n",
    "* Set `epochs` to the number of iterations until the network stops learning or start overfitting\n",
    "* Set `batch_size` to the highest number that your machine has memory for.  Most people set them to common sizes of memory:\n",
    " * 64\n",
    " * 128\n",
    " * 256\n",
    " * ...\n",
    "* Set `keep_probability` to the probability of keeping a node using dropout"
   ]
  },
  {
   "cell_type": "code",
   "execution_count": 46,
   "metadata": {
    "collapsed": true
   },
   "outputs": [],
   "source": [
    "# TODO: Tune Parameters\n",
    "epochs = 20\n",
    "batch_size = 128\n",
    "keep_probability = 0.5"
   ]
  },
  {
   "cell_type": "markdown",
   "metadata": {},
   "source": [
    "### Train on a Single CIFAR-10 Batch\n",
    "Instead of training the neural network on all the CIFAR-10 batches of data, let's use a single batch. This should save time while you iterate on the model to get a better accuracy.  Once the final validation accuracy is 50% or greater, run the model on all the data in the next section."
   ]
  },
  {
   "cell_type": "code",
   "execution_count": 47,
   "metadata": {
    "scrolled": false
   },
   "outputs": [
    {
     "name": "stdout",
     "output_type": "stream",
     "text": [
      "Checking the Training on a Single Batch...\n",
      "Epoch  1, CIFAR-10 Batch 1:  loss = 1.76977\n",
      "Validation accuracy = 0.4202\n",
      "Epoch  2, CIFAR-10 Batch 1:  loss = 1.38673\n",
      "Validation accuracy = 0.509\n",
      "Epoch  3, CIFAR-10 Batch 1:  loss = 0.998237\n",
      "Validation accuracy = 0.567\n",
      "Epoch  4, CIFAR-10 Batch 1:  loss = 0.708463\n",
      "Validation accuracy = 0.5914\n",
      "Epoch  5, CIFAR-10 Batch 1:  loss = 0.482884\n",
      "Validation accuracy = 0.617\n",
      "Epoch  6, CIFAR-10 Batch 1:  loss = 0.280561\n",
      "Validation accuracy = 0.6374\n",
      "Epoch  7, CIFAR-10 Batch 1:  loss = 0.128443\n",
      "Validation accuracy = 0.629\n",
      "Epoch  8, CIFAR-10 Batch 1:  loss = 0.0762367\n",
      "Validation accuracy = 0.599\n",
      "Epoch  9, CIFAR-10 Batch 1:  loss = 0.0278321\n",
      "Validation accuracy = 0.6176\n",
      "Epoch 10, CIFAR-10 Batch 1:  loss = 0.0100588\n",
      "Validation accuracy = 0.6236\n",
      "Epoch 11, CIFAR-10 Batch 1:  loss = 0.00661333\n",
      "Validation accuracy = 0.6222\n",
      "Epoch 12, CIFAR-10 Batch 1:  loss = 0.0107162\n",
      "Validation accuracy = 0.624\n",
      "Epoch 13, CIFAR-10 Batch 1:  loss = 0.00623024\n",
      "Validation accuracy = 0.6536\n",
      "Epoch 14, CIFAR-10 Batch 1:  loss = 0.00335806\n",
      "Validation accuracy = 0.634\n",
      "Epoch 15, CIFAR-10 Batch 1:  loss = 0.0058149\n",
      "Validation accuracy = 0.64\n",
      "Epoch 16, CIFAR-10 Batch 1:  loss = 0.000968216\n",
      "Validation accuracy = 0.6374\n",
      "Epoch 17, CIFAR-10 Batch 1:  loss = 0.00042049\n",
      "Validation accuracy = 0.6498\n",
      "Epoch 18, CIFAR-10 Batch 1:  loss = 0.00119243\n",
      "Validation accuracy = 0.6358\n",
      "Epoch 19, CIFAR-10 Batch 1:  loss = 0.000797539\n",
      "Validation accuracy = 0.645\n",
      "Epoch 20, CIFAR-10 Batch 1:  loss = 0.000404435\n",
      "Validation accuracy = 0.6414\n"
     ]
    }
   ],
   "source": [
    "\"\"\"\n",
    "DON'T MODIFY ANYTHING IN THIS CELL\n",
    "\"\"\"\n",
    "print('Checking the Training on a Single Batch...')\n",
    "with tf.Session() as sess:\n",
    "    # Initializing the variables\n",
    "    sess.run(tf.global_variables_initializer())\n",
    "    \n",
    "    # Training cycle\n",
    "    for epoch in range(epochs):\n",
    "        batch_i = 1\n",
    "        for batch_features, batch_labels in helper.load_preprocess_training_batch(batch_i, batch_size):\n",
    "            train_neural_network(sess, optimizer, keep_probability, batch_features, batch_labels)\n",
    "        print('Epoch {:>2}, CIFAR-10 Batch {}:  '.format(epoch + 1, batch_i), end='')\n",
    "        print_stats(sess, batch_features, batch_labels, cost, accuracy)"
   ]
  },
  {
   "cell_type": "markdown",
   "metadata": {},
   "source": [
    "### Fully Train the Model\n",
    "Now that you got a good accuracy with a single CIFAR-10 batch, try it with all five batches."
   ]
  },
  {
   "cell_type": "code",
   "execution_count": 48,
   "metadata": {
    "scrolled": false
   },
   "outputs": [
    {
     "name": "stdout",
     "output_type": "stream",
     "text": [
      "Training...\n",
      "Epoch  1, CIFAR-10 Batch 1:  loss = 1.92049\n",
      "Validation accuracy = 0.3872\n",
      "Epoch  1, CIFAR-10 Batch 2:  loss = 1.42696\n",
      "Validation accuracy = 0.4762\n",
      "Epoch  1, CIFAR-10 Batch 3:  loss = 0.993694\n",
      "Validation accuracy = 0.5442\n",
      "Epoch  1, CIFAR-10 Batch 4:  loss = 0.933405\n",
      "Validation accuracy = 0.5954\n",
      "Epoch  1, CIFAR-10 Batch 5:  loss = 0.843567\n",
      "Validation accuracy = 0.6414\n",
      "Epoch  2, CIFAR-10 Batch 1:  loss = 0.939461\n",
      "Validation accuracy = 0.652\n",
      "Epoch  2, CIFAR-10 Batch 2:  loss = 0.685588\n",
      "Validation accuracy = 0.6858\n",
      "Epoch  2, CIFAR-10 Batch 3:  loss = 0.44\n",
      "Validation accuracy = 0.7078\n",
      "Epoch  2, CIFAR-10 Batch 4:  loss = 0.494361\n",
      "Validation accuracy = 0.7148\n",
      "Epoch  2, CIFAR-10 Batch 5:  loss = 0.375427\n",
      "Validation accuracy = 0.7192\n",
      "Epoch  3, CIFAR-10 Batch 1:  loss = 0.526981\n",
      "Validation accuracy = 0.7112\n",
      "Epoch  3, CIFAR-10 Batch 2:  loss = 0.353568\n",
      "Validation accuracy = 0.7442\n",
      "Epoch  3, CIFAR-10 Batch 3:  loss = 0.229722\n",
      "Validation accuracy = 0.7512\n",
      "Epoch  3, CIFAR-10 Batch 4:  loss = 0.292246\n",
      "Validation accuracy = 0.7466\n",
      "Epoch  3, CIFAR-10 Batch 5:  loss = 0.206249\n",
      "Validation accuracy = 0.7398\n",
      "Epoch  4, CIFAR-10 Batch 1:  loss = 0.244874\n",
      "Validation accuracy = 0.7382\n",
      "Epoch  4, CIFAR-10 Batch 2:  loss = 0.159658\n",
      "Validation accuracy = 0.7392\n",
      "Epoch  4, CIFAR-10 Batch 3:  loss = 0.101681\n",
      "Validation accuracy = 0.7606\n",
      "Epoch  4, CIFAR-10 Batch 4:  loss = 0.12697\n",
      "Validation accuracy = 0.7488\n",
      "Epoch  4, CIFAR-10 Batch 5:  loss = 0.11735\n",
      "Validation accuracy = 0.7496\n",
      "Epoch  5, CIFAR-10 Batch 1:  loss = 0.0974329\n",
      "Validation accuracy = 0.7524\n",
      "Epoch  5, CIFAR-10 Batch 2:  loss = 0.0896982\n",
      "Validation accuracy = 0.7618\n",
      "Epoch  5, CIFAR-10 Batch 3:  loss = 0.0598761\n",
      "Validation accuracy = 0.7626\n",
      "Epoch  5, CIFAR-10 Batch 4:  loss = 0.0689399\n",
      "Validation accuracy = 0.7694\n",
      "Epoch  5, CIFAR-10 Batch 5:  loss = 0.0453506\n",
      "Validation accuracy = 0.7654\n",
      "Epoch  6, CIFAR-10 Batch 1:  loss = 0.0385004\n",
      "Validation accuracy = 0.7676\n",
      "Epoch  6, CIFAR-10 Batch 2:  loss = 0.0523866\n",
      "Validation accuracy = 0.7702\n",
      "Epoch  6, CIFAR-10 Batch 3:  loss = 0.0265871\n",
      "Validation accuracy = 0.7442\n",
      "Epoch  6, CIFAR-10 Batch 4:  loss = 0.0346135\n",
      "Validation accuracy = 0.7566\n",
      "Epoch  6, CIFAR-10 Batch 5:  loss = 0.044214\n",
      "Validation accuracy = 0.738\n",
      "Epoch  7, CIFAR-10 Batch 1:  loss = 0.0183421\n",
      "Validation accuracy = 0.767\n",
      "Epoch  7, CIFAR-10 Batch 2:  loss = 0.0273922\n",
      "Validation accuracy = 0.7568\n",
      "Epoch  7, CIFAR-10 Batch 3:  loss = 0.0127954\n",
      "Validation accuracy = 0.7662\n",
      "Epoch  7, CIFAR-10 Batch 4:  loss = 0.0237214\n",
      "Validation accuracy = 0.765\n",
      "Epoch  7, CIFAR-10 Batch 5:  loss = 0.025399\n",
      "Validation accuracy = 0.7438\n",
      "Epoch  8, CIFAR-10 Batch 1:  loss = 0.0146444\n",
      "Validation accuracy = 0.7722\n",
      "Epoch  8, CIFAR-10 Batch 2:  loss = 0.00719312\n",
      "Validation accuracy = 0.7722\n",
      "Epoch  8, CIFAR-10 Batch 3:  loss = 0.0099595\n",
      "Validation accuracy = 0.7756\n",
      "Epoch  8, CIFAR-10 Batch 4:  loss = 0.00894091\n",
      "Validation accuracy = 0.7562\n",
      "Epoch  8, CIFAR-10 Batch 5:  loss = 0.0276049\n",
      "Validation accuracy = 0.725\n",
      "Epoch  9, CIFAR-10 Batch 1:  loss = 0.00395031\n",
      "Validation accuracy = 0.7758\n",
      "Epoch  9, CIFAR-10 Batch 2:  loss = 0.00480773\n",
      "Validation accuracy = 0.7682\n",
      "Epoch  9, CIFAR-10 Batch 3:  loss = 0.00731444\n",
      "Validation accuracy = 0.7684\n",
      "Epoch  9, CIFAR-10 Batch 4:  loss = 0.0027789\n",
      "Validation accuracy = 0.755\n",
      "Epoch  9, CIFAR-10 Batch 5:  loss = 0.00838498\n",
      "Validation accuracy = 0.7714\n",
      "Epoch 10, CIFAR-10 Batch 1:  loss = 0.012043\n",
      "Validation accuracy = 0.776\n",
      "Epoch 10, CIFAR-10 Batch 2:  loss = 0.00355619\n",
      "Validation accuracy = 0.7618\n",
      "Epoch 10, CIFAR-10 Batch 3:  loss = 0.00180492\n",
      "Validation accuracy = 0.7662\n",
      "Epoch 10, CIFAR-10 Batch 4:  loss = 0.00349104\n",
      "Validation accuracy = 0.765\n",
      "Epoch 10, CIFAR-10 Batch 5:  loss = 0.00443715\n",
      "Validation accuracy = 0.7602\n",
      "Epoch 11, CIFAR-10 Batch 1:  loss = 0.00516036\n",
      "Validation accuracy = 0.772\n",
      "Epoch 11, CIFAR-10 Batch 2:  loss = 0.000975297\n",
      "Validation accuracy = 0.7676\n",
      "Epoch 11, CIFAR-10 Batch 3:  loss = 0.00352566\n",
      "Validation accuracy = 0.7592\n",
      "Epoch 11, CIFAR-10 Batch 4:  loss = 0.00343811\n",
      "Validation accuracy = 0.7628\n",
      "Epoch 11, CIFAR-10 Batch 5:  loss = 0.00388255\n",
      "Validation accuracy = 0.7708\n",
      "Epoch 12, CIFAR-10 Batch 1:  loss = 0.00112899\n",
      "Validation accuracy = 0.7818\n",
      "Epoch 12, CIFAR-10 Batch 2:  loss = 0.00213739\n",
      "Validation accuracy = 0.7706\n",
      "Epoch 12, CIFAR-10 Batch 3:  loss = 0.00356549\n",
      "Validation accuracy = 0.7676\n",
      "Epoch 12, CIFAR-10 Batch 4:  loss = 0.00203282\n",
      "Validation accuracy = 0.768\n",
      "Epoch 12, CIFAR-10 Batch 5:  loss = 0.0010696\n",
      "Validation accuracy = 0.7812\n",
      "Epoch 13, CIFAR-10 Batch 1:  loss = 0.00213504\n",
      "Validation accuracy = 0.7766\n",
      "Epoch 13, CIFAR-10 Batch 2:  loss = 0.00188811\n",
      "Validation accuracy = 0.7764\n",
      "Epoch 13, CIFAR-10 Batch 3:  loss = 0.00279756\n",
      "Validation accuracy = 0.7744\n",
      "Epoch 13, CIFAR-10 Batch 4:  loss = 0.000899437\n",
      "Validation accuracy = 0.7788\n",
      "Epoch 13, CIFAR-10 Batch 5:  loss = 0.00106769\n",
      "Validation accuracy = 0.7744\n",
      "Epoch 14, CIFAR-10 Batch 1:  loss = 0.00199658\n",
      "Validation accuracy = 0.7782\n",
      "Epoch 14, CIFAR-10 Batch 2:  loss = 0.00114259\n",
      "Validation accuracy = 0.7706\n",
      "Epoch 14, CIFAR-10 Batch 3:  loss = 0.000676452\n",
      "Validation accuracy = 0.7796\n",
      "Epoch 14, CIFAR-10 Batch 4:  loss = 0.000128894\n",
      "Validation accuracy = 0.7814\n",
      "Epoch 14, CIFAR-10 Batch 5:  loss = 0.000990915\n",
      "Validation accuracy = 0.7688\n",
      "Epoch 15, CIFAR-10 Batch 1:  loss = 0.00276929\n",
      "Validation accuracy = 0.7702\n",
      "Epoch 15, CIFAR-10 Batch 2:  loss = 0.00278624\n",
      "Validation accuracy = 0.7814\n",
      "Epoch 15, CIFAR-10 Batch 3:  loss = 0.000773662\n",
      "Validation accuracy = 0.7704\n",
      "Epoch 15, CIFAR-10 Batch 4:  loss = 0.000960958\n",
      "Validation accuracy = 0.763\n",
      "Epoch 15, CIFAR-10 Batch 5:  loss = 0.00101827\n",
      "Validation accuracy = 0.7728\n",
      "Epoch 16, CIFAR-10 Batch 1:  loss = 0.00455242\n",
      "Validation accuracy = 0.7748\n",
      "Epoch 16, CIFAR-10 Batch 2:  loss = 0.00150294\n",
      "Validation accuracy = 0.7726\n",
      "Epoch 16, CIFAR-10 Batch 3:  loss = 0.000895043\n",
      "Validation accuracy = 0.7684\n",
      "Epoch 16, CIFAR-10 Batch 4:  loss = 0.000941121\n",
      "Validation accuracy = 0.7684\n",
      "Epoch 16, CIFAR-10 Batch 5:  loss = 0.00293508\n",
      "Validation accuracy = 0.775\n",
      "Epoch 17, CIFAR-10 Batch 1:  loss = 0.000908998\n",
      "Validation accuracy = 0.7798\n",
      "Epoch 17, CIFAR-10 Batch 2:  loss = 0.000614391\n",
      "Validation accuracy = 0.7746\n",
      "Epoch 17, CIFAR-10 Batch 3:  loss = 0.00397211\n",
      "Validation accuracy = 0.779\n",
      "Epoch 17, CIFAR-10 Batch 4:  loss = 0.00474972\n",
      "Validation accuracy = 0.762\n",
      "Epoch 17, CIFAR-10 Batch 5:  loss = 0.00489041\n",
      "Validation accuracy = 0.7684\n",
      "Epoch 18, CIFAR-10 Batch 1:  loss = 0.00233649\n",
      "Validation accuracy = 0.7688\n",
      "Epoch 18, CIFAR-10 Batch 2:  loss = 0.00122369\n",
      "Validation accuracy = 0.7726\n",
      "Epoch 18, CIFAR-10 Batch 3:  loss = 0.00159642\n",
      "Validation accuracy = 0.7716\n",
      "Epoch 18, CIFAR-10 Batch 4:  loss = 0.000440909\n",
      "Validation accuracy = 0.7722\n",
      "Epoch 18, CIFAR-10 Batch 5:  loss = 0.00095393\n",
      "Validation accuracy = 0.7802\n",
      "Epoch 19, CIFAR-10 Batch 1:  loss = 0.00117468\n",
      "Validation accuracy = 0.7814\n",
      "Epoch 19, CIFAR-10 Batch 2:  loss = 0.000516468\n",
      "Validation accuracy = 0.7734\n",
      "Epoch 19, CIFAR-10 Batch 3:  loss = 0.000204919\n",
      "Validation accuracy = 0.7774\n",
      "Epoch 19, CIFAR-10 Batch 4:  loss = 0.000192508\n",
      "Validation accuracy = 0.778\n",
      "Epoch 19, CIFAR-10 Batch 5:  loss = 0.00108857\n",
      "Validation accuracy = 0.7814\n",
      "Epoch 20, CIFAR-10 Batch 1:  loss = 0.00152705\n",
      "Validation accuracy = 0.7782\n",
      "Epoch 20, CIFAR-10 Batch 2:  loss = 0.000262074\n",
      "Validation accuracy = 0.7768\n",
      "Epoch 20, CIFAR-10 Batch 3:  loss = 4.94078e-05\n",
      "Validation accuracy = 0.775\n",
      "Epoch 20, CIFAR-10 Batch 4:  loss = 0.00291121\n",
      "Validation accuracy = 0.7678\n",
      "Epoch 20, CIFAR-10 Batch 5:  loss = 0.000657305\n",
      "Validation accuracy = 0.775\n"
     ]
    }
   ],
   "source": [
    "\"\"\"\n",
    "DON'T MODIFY ANYTHING IN THIS CELL\n",
    "\"\"\"\n",
    "save_model_path = './image_classification'\n",
    "\n",
    "print('Training...')\n",
    "with tf.Session() as sess:\n",
    "    # Initializing the variables\n",
    "    sess.run(tf.global_variables_initializer())\n",
    "    \n",
    "    # Training cycle\n",
    "    for epoch in range(epochs):\n",
    "        # Loop over all batches\n",
    "        n_batches = 5\n",
    "        for batch_i in range(1, n_batches + 1):\n",
    "            for batch_features, batch_labels in helper.load_preprocess_training_batch(batch_i, batch_size):\n",
    "                train_neural_network(sess, optimizer, keep_probability, batch_features, batch_labels)\n",
    "            print('Epoch {:>2}, CIFAR-10 Batch {}:  '.format(epoch + 1, batch_i), end='')\n",
    "            print_stats(sess, batch_features, batch_labels, cost, accuracy)\n",
    "            \n",
    "    # Save Model\n",
    "    saver = tf.train.Saver()\n",
    "    save_path = saver.save(sess, save_model_path)"
   ]
  },
  {
   "cell_type": "markdown",
   "metadata": {},
   "source": [
    "# Checkpoint\n",
    "The model has been saved to disk.\n",
    "## Test Model\n",
    "Test your model against the test dataset.  This will be your final accuracy. You should have an accuracy greater than 50%. If you don't, keep tweaking the model architecture and parameters."
   ]
  },
  {
   "cell_type": "code",
   "execution_count": 49,
   "metadata": {},
   "outputs": [
    {
     "name": "stdout",
     "output_type": "stream",
     "text": [
      "INFO:tensorflow:Restoring parameters from ./image_classification\n",
      "Testing Accuracy: 0.7636471518987342\n",
      "\n"
     ]
    },
    {
     "data": {
      "image/png": "[encoded data removed]",
      "text/plain": [
       "<matplotlib.figure.Figure at 0xe24fc50>"
      ]
     },
     "metadata": {
      "image/png": {
       "height": 319,
       "width": 349
      }
     },
     "output_type": "display_data"
    }
   ],
   "source": [
    "\"\"\"\n",
    "DON'T MODIFY ANYTHING IN THIS CELL\n",
    "\"\"\"\n",
    "%matplotlib inline\n",
    "%config InlineBackend.figure_format = 'retina'\n",
    "\n",
    "import tensorflow as tf\n",
    "import pickle\n",
    "import helper\n",
    "import random\n",
    "\n",
    "# Set batch size if not already set\n",
    "try:\n",
    "    if batch_size:\n",
    "        pass\n",
    "except NameError:\n",
    "    batch_size = 64\n",
    "\n",
    "save_model_path = './image_classification'\n",
    "n_samples = 4\n",
    "top_n_predictions = 3\n",
    "\n",
    "def test_model():\n",
    "    \"\"\"\n",
    "    Test the saved model against the test dataset\n",
    "    \"\"\"\n",
    "\n",
    "    test_features, test_labels = pickle.load(open('preprocess_training.p', mode='rb'))\n",
    "    loaded_graph = tf.Graph()\n",
    "\n",
    "    with tf.Session(graph=loaded_graph) as sess:\n",
    "        # Load model\n",
    "        loader = tf.train.import_meta_graph(save_model_path + '.meta')\n",
    "        loader.restore(sess, save_model_path)\n",
    "\n",
    "        # Get Tensors from loaded model\n",
    "        loaded_x = loaded_graph.get_tensor_by_name('x:0')\n",
    "        loaded_y = loaded_graph.get_tensor_by_name('y:0')\n",
    "        loaded_keep_prob = loaded_graph.get_tensor_by_name('keep_prob:0')\n",
    "        loaded_logits = loaded_graph.get_tensor_by_name('logits:0')\n",
    "        loaded_acc = loaded_graph.get_tensor_by_name('accuracy:0')\n",
    "        \n",
    "        # Get accuracy in batches for memory limitations\n",
    "        test_batch_acc_total = 0\n",
    "        test_batch_count = 0\n",
    "        \n",
    "        for train_feature_batch, train_label_batch in helper.batch_features_labels(test_features, test_labels, batch_size):\n",
    "            test_batch_acc_total += sess.run(\n",
    "                loaded_acc,\n",
    "                feed_dict={loaded_x: train_feature_batch, loaded_y: train_label_batch, loaded_keep_prob: 1.0})\n",
    "            test_batch_count += 1\n",
    "\n",
    "        print('Testing Accuracy: {}\\n'.format(test_batch_acc_total/test_batch_count))\n",
    "\n",
    "        # Print Random Samples\n",
    "        random_test_features, random_test_labels = tuple(zip(*random.sample(list(zip(test_features, test_labels)), n_samples)))\n",
    "        random_test_predictions = sess.run(\n",
    "            tf.nn.top_k(tf.nn.softmax(loaded_logits), top_n_predictions),\n",
    "            feed_dict={loaded_x: random_test_features, loaded_y: random_test_labels, loaded_keep_prob: 1.0})\n",
    "        helper.display_image_predictions(random_test_features, random_test_labels, random_test_predictions)\n",
    "\n",
    "\n",
    "test_model()"
   ]
  },
  {
   "cell_type": "markdown",
   "metadata": {},
   "source": [
    "## Why 50-80% Accuracy?\n",
    "You might be wondering why you can't get an accuracy any higher. First things first, 50% isn't bad for a simple CNN.  Pure guessing would get you 10% accuracy. That's because there are many more techniques that can be applied to your model and we recemmond that once you are done with this project, you explore!\n",
    "\n",
    "## Submitting This Project\n",
    "When submitting this project, make sure to run all the cells before saving the notebook.  Save the notebook file as \"image_classification.ipynb\" and save it as a HTML file under \"File\" -> \"Download as\".  Include the \"helper.py\" and \"problem_unittests.py\" files in your submission."
   ]
  }
 ],
 "metadata": {
  "kernelspec": {
   "display_name": "Python 3",
   "language": "python",
   "name": "python3"
  },
  "language_info": {
   "codemirror_mode": {
    "name": "ipython",
    "version": 3
   },
   "file_extension": ".py",
   "mimetype": "text/x-python",
   "name": "python",
   "nbconvert_exporter": "python",
   "pygments_lexer": "ipython3",
   "version": "3.5.4"
  }
 },
 "nbformat": 4,
 "nbformat_minor": 1
}
